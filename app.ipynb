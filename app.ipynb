{
 "cells": [
  {
   "cell_type": "code",
   "execution_count": 1,
   "id": "1b4d8ab0-af0b-402c-bbfe-1f426afb2824",
   "metadata": {
    "tags": []
   },
   "outputs": [],
   "source": [
    "import os\n",
    "from flask import Flask, jsonify, request\n",
    "from flask_restful import Api, Resource\n",
    "import joblib\n",
    "app = Flask(__name__)\n",
    "api = Api(app)\n",
    "\n",
    "\n",
    "\n"
   ]
  },
  {
   "cell_type": "code",
   "execution_count": 2,
   "id": "9a82c94a-046a-4400-ac2f-c1669557f908",
   "metadata": {
    "tags": []
   },
   "outputs": [],
   "source": [
    "nameMessage = \"hey there \"\n",
    "ma = [\"name\",\"ሳዳጅ የነበረው ሐዋሪያ ማን\"]"
   ]
  },
  {
   "cell_type": "code",
   "execution_count": 3,
   "id": "9fd53718-d20f-46ad-aab6-3f94ab69d1a4",
   "metadata": {
    "tags": []
   },
   "outputs": [],
   "source": [
    "class MakePrediction(Resource):\n",
    "    @staticmethod\n",
    "    def post():\n",
    "        posted_data = request.get_json()\n",
    "        name = posted_data['name']\n",
    "        return jsonify({\n",
    "            'greeting ': \"ሳዳጅ የነበረው ሐዋሪያ ማን\" \n",
    "        })\n",
    "    \n",
    "api.add_resource(MakePrediction, '/predict')"
   ]
  },
  {
   "cell_type": "code",
   "execution_count": 4,
   "id": "853fee13-0745-43dc-bc57-c95ce7cb288a",
   "metadata": {
    "tags": []
   },
   "outputs": [
    {
     "name": "stdout",
     "output_type": "stream",
     "text": [
      " * Serving Flask app '__main__'\n",
      " * Debug mode: off\n"
     ]
    },
    {
     "name": "stderr",
     "output_type": "stream",
     "text": [
      "\u001b[31m\u001b[1mWARNING: This is a development server. Do not use it in a production deployment. Use a production WSGI server instead.\u001b[0m\n",
      " * Running on http://127.0.0.1:5000\n",
      "\u001b[33mPress CTRL+C to quit\u001b[0m\n",
      "[2023-04-26 14:28:28,443] ERROR in app: Exception on /predict [POST]\n",
      "Traceback (most recent call last):\n",
      "  File \"/Users/ezanaaimero/Library/Python/3.8/lib/python/site-packages/flask/app.py\", line 1823, in full_dispatch_request\n",
      "    rv = self.dispatch_request()\n",
      "  File \"/Users/ezanaaimero/Library/Python/3.8/lib/python/site-packages/flask/app.py\", line 1799, in dispatch_request\n",
      "    return self.ensure_sync(self.view_functions[rule.endpoint])(**view_args)\n",
      "  File \"/Users/ezanaaimero/Library/Python/3.8/lib/python/site-packages/flask_restful/__init__.py\", line 467, in wrapper\n",
      "    resp = resource(*args, **kwargs)\n",
      "  File \"/Users/ezanaaimero/Library/Python/3.8/lib/python/site-packages/flask/views.py\", line 107, in view\n",
      "    return current_app.ensure_sync(self.dispatch_request)(**kwargs)\n",
      "  File \"/Users/ezanaaimero/Library/Python/3.8/lib/python/site-packages/flask_restful/__init__.py\", line 582, in dispatch_request\n",
      "    resp = meth(*args, **kwargs)\n",
      "  File \"/var/folders/tw/2fykrfyn1hd7b_7sw7b03st80000gn/T/ipykernel_75818/1358824299.py\", line 5, in post\n",
      "    name = posted_data['name']\n",
      "KeyError: 'name'\n",
      "127.0.0.1 - - [26/Apr/2023 14:28:28] \"\u001b[35m\u001b[1mPOST /predict HTTP/1.1\u001b[0m\" 500 -\n",
      "[2023-04-26 14:29:02,332] ERROR in app: Exception on /predict [POST]\n",
      "Traceback (most recent call last):\n",
      "  File \"/Users/ezanaaimero/Library/Python/3.8/lib/python/site-packages/flask/app.py\", line 1823, in full_dispatch_request\n",
      "    rv = self.dispatch_request()\n",
      "  File \"/Users/ezanaaimero/Library/Python/3.8/lib/python/site-packages/flask/app.py\", line 1799, in dispatch_request\n",
      "    return self.ensure_sync(self.view_functions[rule.endpoint])(**view_args)\n",
      "  File \"/Users/ezanaaimero/Library/Python/3.8/lib/python/site-packages/flask_restful/__init__.py\", line 467, in wrapper\n",
      "    resp = resource(*args, **kwargs)\n",
      "  File \"/Users/ezanaaimero/Library/Python/3.8/lib/python/site-packages/flask/views.py\", line 107, in view\n",
      "    return current_app.ensure_sync(self.dispatch_request)(**kwargs)\n",
      "  File \"/Users/ezanaaimero/Library/Python/3.8/lib/python/site-packages/flask_restful/__init__.py\", line 582, in dispatch_request\n",
      "    resp = meth(*args, **kwargs)\n",
      "  File \"/var/folders/tw/2fykrfyn1hd7b_7sw7b03st80000gn/T/ipykernel_75818/1358824299.py\", line 5, in post\n",
      "    name = posted_data['name']\n",
      "KeyError: 'name'\n",
      "127.0.0.1 - - [26/Apr/2023 14:29:02] \"\u001b[35m\u001b[1mPOST /predict HTTP/1.1\u001b[0m\" 500 -\n",
      "127.0.0.1 - - [26/Apr/2023 14:31:55] \"POST /predict HTTP/1.1\" 200 -\n",
      "127.0.0.1 - - [26/Apr/2023 14:33:36] \"POST /predict HTTP/1.1\" 200 -\n",
      "127.0.0.1 - - [26/Apr/2023 14:35:16] \"POST /predict HTTP/1.1\" 200 -\n",
      "127.0.0.1 - - [26/Apr/2023 14:36:45] \"POST /predict HTTP/1.1\" 200 -\n",
      "127.0.0.1 - - [26/Apr/2023 14:37:04] \"POST /predict HTTP/1.1\" 200 -\n",
      "127.0.0.1 - - [26/Apr/2023 14:38:57] \"POST /predict HTTP/1.1\" 200 -\n",
      "127.0.0.1 - - [26/Apr/2023 14:40:49] \"POST /predict HTTP/1.1\" 200 -\n",
      "127.0.0.1 - - [26/Apr/2023 14:53:59] \"POST /predict HTTP/1.1\" 200 -\n",
      "127.0.0.1 - - [26/Apr/2023 14:54:16] \"POST /predict HTTP/1.1\" 200 -\n",
      "127.0.0.1 - - [26/Apr/2023 14:57:28] \"POST /predict HTTP/1.1\" 200 -\n",
      "[2023-04-26 14:59:15,645] ERROR in app: Exception on /predict [POST]\n",
      "Traceback (most recent call last):\n",
      "  File \"/Users/ezanaaimero/Library/Python/3.8/lib/python/site-packages/flask/app.py\", line 1823, in full_dispatch_request\n",
      "    rv = self.dispatch_request()\n",
      "  File \"/Users/ezanaaimero/Library/Python/3.8/lib/python/site-packages/flask/app.py\", line 1799, in dispatch_request\n",
      "    return self.ensure_sync(self.view_functions[rule.endpoint])(**view_args)\n",
      "  File \"/Users/ezanaaimero/Library/Python/3.8/lib/python/site-packages/flask_restful/__init__.py\", line 467, in wrapper\n",
      "    resp = resource(*args, **kwargs)\n",
      "  File \"/Users/ezanaaimero/Library/Python/3.8/lib/python/site-packages/flask/views.py\", line 107, in view\n",
      "    return current_app.ensure_sync(self.dispatch_request)(**kwargs)\n",
      "  File \"/Users/ezanaaimero/Library/Python/3.8/lib/python/site-packages/flask_restful/__init__.py\", line 582, in dispatch_request\n",
      "    resp = meth(*args, **kwargs)\n",
      "  File \"/var/folders/tw/2fykrfyn1hd7b_7sw7b03st80000gn/T/ipykernel_75818/1358824299.py\", line 5, in post\n",
      "    name = posted_data['name']\n",
      "KeyError: 'name'\n",
      "127.0.0.1 - - [26/Apr/2023 14:59:15] \"\u001b[35m\u001b[1mPOST /predict HTTP/1.1\u001b[0m\" 500 -\n",
      "[2023-04-26 15:00:19,064] ERROR in app: Exception on /predict [POST]\n",
      "Traceback (most recent call last):\n",
      "  File \"/Users/ezanaaimero/Library/Python/3.8/lib/python/site-packages/flask/app.py\", line 1823, in full_dispatch_request\n",
      "    rv = self.dispatch_request()\n",
      "  File \"/Users/ezanaaimero/Library/Python/3.8/lib/python/site-packages/flask/app.py\", line 1799, in dispatch_request\n",
      "    return self.ensure_sync(self.view_functions[rule.endpoint])(**view_args)\n",
      "  File \"/Users/ezanaaimero/Library/Python/3.8/lib/python/site-packages/flask_restful/__init__.py\", line 467, in wrapper\n",
      "    resp = resource(*args, **kwargs)\n",
      "  File \"/Users/ezanaaimero/Library/Python/3.8/lib/python/site-packages/flask/views.py\", line 107, in view\n",
      "    return current_app.ensure_sync(self.dispatch_request)(**kwargs)\n",
      "  File \"/Users/ezanaaimero/Library/Python/3.8/lib/python/site-packages/flask_restful/__init__.py\", line 582, in dispatch_request\n",
      "    resp = meth(*args, **kwargs)\n",
      "  File \"/var/folders/tw/2fykrfyn1hd7b_7sw7b03st80000gn/T/ipykernel_75818/1358824299.py\", line 5, in post\n",
      "    name = posted_data['name']\n",
      "KeyError: 'name'\n",
      "127.0.0.1 - - [26/Apr/2023 15:00:19] \"\u001b[35m\u001b[1mPOST /predict HTTP/1.1\u001b[0m\" 500 -\n",
      "127.0.0.1 - - [26/Apr/2023 15:03:50] \"POST /predict HTTP/1.1\" 200 -\n",
      "127.0.0.1 - - [26/Apr/2023 15:04:29] \"POST /predict HTTP/1.1\" 200 -\n",
      "127.0.0.1 - - [26/Apr/2023 15:05:40] \"POST /predict HTTP/1.1\" 200 -\n",
      "127.0.0.1 - - [26/Apr/2023 15:10:08] \"POST /predict HTTP/1.1\" 200 -\n"
     ]
    }
   ],
   "source": [
    "if __name__ == '__main__':\n",
    "    app.run()"
   ]
  },
  {
   "cell_type": "code",
   "execution_count": null,
   "id": "870765a9-c741-42b8-bfe6-86165ea2c2c2",
   "metadata": {},
   "outputs": [],
   "source": []
  },
  {
   "cell_type": "code",
   "execution_count": null,
   "id": "681a05ab-3fef-42b2-88b9-bb80f3cfeff0",
   "metadata": {},
   "outputs": [],
   "source": []
  }
 ],
 "metadata": {
  "kernelspec": {
   "display_name": "Python 3 (ipykernel)",
   "language": "python",
   "name": "python3"
  },
  "language_info": {
   "codemirror_mode": {
    "name": "ipython",
    "version": 3
   },
   "file_extension": ".py",
   "mimetype": "text/x-python",
   "name": "python",
   "nbconvert_exporter": "python",
   "pygments_lexer": "ipython3",
   "version": "3.8.2"
  }
 },
 "nbformat": 4,
 "nbformat_minor": 5
}
