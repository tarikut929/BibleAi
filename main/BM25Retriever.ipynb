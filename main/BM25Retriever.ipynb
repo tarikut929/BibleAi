{
 "cells": [
  {
   "cell_type": "code",
   "execution_count": 1,
   "id": "8265f6fb-ecf7-437f-8049-c129bdd780eb",
   "metadata": {
    "tags": []
   },
   "outputs": [
    {
     "name": "stdout",
     "output_type": "stream",
     "text": [
      "Defaulting to user installation because normal site-packages is not writeable\n",
      "Requirement already satisfied: pip in /Users/ezanaaimero/Library/Python/3.8/lib/python/site-packages (23.0.1)\n",
      "Note: you may need to restart the kernel to use updated packages.\n",
      "Defaulting to user installation because normal site-packages is not writeable\n",
      "Requirement already satisfied: farm-haystack in /Users/ezanaaimero/Library/Python/3.8/lib/python/site-packages (1.15.0rc0)\n",
      "Requirement already satisfied: tenacity in /Users/ezanaaimero/Library/Python/3.8/lib/python/site-packages (from farm-haystack) (8.2.2)\n",
      "Requirement already satisfied: mmh3 in /Users/ezanaaimero/Library/Python/3.8/lib/python/site-packages (from farm-haystack) (3.0.0)\n",
      "Requirement already satisfied: rank-bm25 in /Users/ezanaaimero/Library/Python/3.8/lib/python/site-packages (from farm-haystack) (0.2.2)\n",
      "Requirement already satisfied: azure-ai-formrecognizer>=3.2.0b2 in /Users/ezanaaimero/Library/Python/3.8/lib/python/site-packages (from farm-haystack) (3.2.0)\n",
      "Requirement already satisfied: pandas in /Users/ezanaaimero/Library/Python/3.8/lib/python/site-packages (from farm-haystack) (1.4.2)\n",
      "Requirement already satisfied: nltk in /Users/ezanaaimero/Library/Python/3.8/lib/python/site-packages (from farm-haystack) (3.8.1)\n",
      "Requirement already satisfied: more-itertools in /Users/ezanaaimero/Library/Python/3.8/lib/python/site-packages (from farm-haystack) (9.1.0)\n",
      "Requirement already satisfied: pydantic in /Users/ezanaaimero/Library/Python/3.8/lib/python/site-packages (from farm-haystack) (1.10.4)\n",
      "Requirement already satisfied: mlflow in /Users/ezanaaimero/Library/Python/3.8/lib/python/site-packages (from farm-haystack) (2.2.1)\n",
      "Requirement already satisfied: requests in /Users/ezanaaimero/Library/Python/3.8/lib/python/site-packages (from farm-haystack) (2.28.2)\n",
      "Requirement already satisfied: tiktoken>=0.2.0 in /Users/ezanaaimero/Library/Python/3.8/lib/python/site-packages (from farm-haystack) (0.3.0)\n",
      "Requirement already satisfied: transformers[torch]==4.25.1 in /Users/ezanaaimero/Library/Python/3.8/lib/python/site-packages (from farm-haystack) (4.25.1)\n",
      "Requirement already satisfied: langdetect in /Users/ezanaaimero/Library/Python/3.8/lib/python/site-packages (from farm-haystack) (1.0.9)\n",
      "Requirement already satisfied: tqdm in /Users/ezanaaimero/Library/Python/3.8/lib/python/site-packages (from farm-haystack) (4.64.1)\n",
      "Requirement already satisfied: dill in /Users/ezanaaimero/Library/Python/3.8/lib/python/site-packages (from farm-haystack) (0.3.6)\n",
      "Requirement already satisfied: jsonschema in /Users/ezanaaimero/Library/Python/3.8/lib/python/site-packages (from farm-haystack) (4.17.3)\n",
      "Requirement already satisfied: sentence-transformers>=2.2.0 in /Users/ezanaaimero/Library/Python/3.8/lib/python/site-packages (from farm-haystack) (2.2.2)\n",
      "Requirement already satisfied: protobuf<=3.20.2 in /Users/ezanaaimero/Library/Python/3.8/lib/python/site-packages (from farm-haystack) (3.19.6)\n",
      "Requirement already satisfied: scikit-learn>=1.0.0 in /Users/ezanaaimero/Library/Python/3.8/lib/python/site-packages (from farm-haystack) (1.2.0)\n",
      "Requirement already satisfied: huggingface-hub>=0.5.0 in /Users/ezanaaimero/Library/Python/3.8/lib/python/site-packages (from farm-haystack) (0.11.1)\n",
      "Requirement already satisfied: scipy>=1.3.2 in /Users/ezanaaimero/Library/Python/3.8/lib/python/site-packages (from farm-haystack) (1.10.0)\n",
      "Requirement already satisfied: rapidfuzz<2.8.0,>=2.0.15 in /Users/ezanaaimero/Library/Python/3.8/lib/python/site-packages (from farm-haystack) (2.7.0)\n",
      "Requirement already satisfied: elasticsearch<8,>=7.7 in /Users/ezanaaimero/Library/Python/3.8/lib/python/site-packages (from farm-haystack) (7.17.9)\n",
      "Requirement already satisfied: quantulum3 in /Users/ezanaaimero/Library/Python/3.8/lib/python/site-packages (from farm-haystack) (0.8.1)\n",
      "Requirement already satisfied: posthog in /Users/ezanaaimero/Library/Python/3.8/lib/python/site-packages (from farm-haystack) (2.3.1)\n",
      "Requirement already satisfied: networkx in /Users/ezanaaimero/Library/Python/3.8/lib/python/site-packages (from farm-haystack) (3.0)\n",
      "Requirement already satisfied: tika in /Users/ezanaaimero/Library/Python/3.8/lib/python/site-packages (from farm-haystack) (2.6.0)\n",
      "Requirement already satisfied: python-docx in /Users/ezanaaimero/Library/Python/3.8/lib/python/site-packages (from farm-haystack) (0.8.11)\n",
      "Requirement already satisfied: seqeval in /Users/ezanaaimero/Library/Python/3.8/lib/python/site-packages (from farm-haystack) (1.2.2)\n",
      "Requirement already satisfied: packaging>=20.0 in /Users/ezanaaimero/Library/Python/3.8/lib/python/site-packages (from transformers[torch]==4.25.1->farm-haystack) (22.0)\n",
      "Requirement already satisfied: regex!=2019.12.17 in /Users/ezanaaimero/Library/Python/3.8/lib/python/site-packages (from transformers[torch]==4.25.1->farm-haystack) (2022.10.31)\n",
      "Requirement already satisfied: numpy>=1.17 in /Users/ezanaaimero/Library/Python/3.8/lib/python/site-packages (from transformers[torch]==4.25.1->farm-haystack) (1.22.3)\n",
      "Requirement already satisfied: tokenizers!=0.11.3,<0.14,>=0.11.1 in /Users/ezanaaimero/Library/Python/3.8/lib/python/site-packages (from transformers[torch]==4.25.1->farm-haystack) (0.13.2)\n",
      "Requirement already satisfied: filelock in /Users/ezanaaimero/Library/Python/3.8/lib/python/site-packages (from transformers[torch]==4.25.1->farm-haystack) (3.9.0)\n",
      "Requirement already satisfied: pyyaml>=5.1 in /Users/ezanaaimero/Library/Python/3.8/lib/python/site-packages (from transformers[torch]==4.25.1->farm-haystack) (6.0)\n",
      "Requirement already satisfied: torch!=1.12.0,>=1.7 in /Users/ezanaaimero/Library/Python/3.8/lib/python/site-packages (from transformers[torch]==4.25.1->farm-haystack) (1.13.1)\n",
      "Requirement already satisfied: azure-core<2.0.0,>=1.23.0 in /Users/ezanaaimero/Library/Python/3.8/lib/python/site-packages (from azure-ai-formrecognizer>=3.2.0b2->farm-haystack) (1.26.3)\n",
      "Requirement already satisfied: azure-common~=1.1 in /Users/ezanaaimero/Library/Python/3.8/lib/python/site-packages (from azure-ai-formrecognizer>=3.2.0b2->farm-haystack) (1.1.28)\n",
      "Requirement already satisfied: msrest>=0.6.21 in /Users/ezanaaimero/Library/Python/3.8/lib/python/site-packages (from azure-ai-formrecognizer>=3.2.0b2->farm-haystack) (0.7.1)\n",
      "Requirement already satisfied: typing-extensions>=4.0.1 in /Users/ezanaaimero/Library/Python/3.8/lib/python/site-packages (from azure-ai-formrecognizer>=3.2.0b2->farm-haystack) (4.4.0)\n",
      "Requirement already satisfied: urllib3<2,>=1.21.1 in /Users/ezanaaimero/Library/Python/3.8/lib/python/site-packages (from elasticsearch<8,>=7.7->farm-haystack) (1.26.9)\n",
      "Requirement already satisfied: certifi in /Users/ezanaaimero/Library/Python/3.8/lib/python/site-packages (from elasticsearch<8,>=7.7->farm-haystack) (2021.10.8)\n",
      "Requirement already satisfied: jarowinkler<2.0.0,>=1.2.0 in /Users/ezanaaimero/Library/Python/3.8/lib/python/site-packages (from rapidfuzz<2.8.0,>=2.0.15->farm-haystack) (1.2.3)\n",
      "Requirement already satisfied: joblib>=1.1.1 in /Users/ezanaaimero/Library/Python/3.8/lib/python/site-packages (from scikit-learn>=1.0.0->farm-haystack) (1.2.0)\n",
      "Requirement already satisfied: threadpoolctl>=2.0.0 in /Users/ezanaaimero/Library/Python/3.8/lib/python/site-packages (from scikit-learn>=1.0.0->farm-haystack) (3.1.0)\n",
      "Requirement already satisfied: torchvision in /Users/ezanaaimero/Library/Python/3.8/lib/python/site-packages (from sentence-transformers>=2.2.0->farm-haystack) (0.14.1)\n",
      "Requirement already satisfied: sentencepiece in /Users/ezanaaimero/Library/Python/3.8/lib/python/site-packages (from sentence-transformers>=2.2.0->farm-haystack) (0.1.97)\n",
      "Requirement already satisfied: blobfile>=2 in /Users/ezanaaimero/Library/Python/3.8/lib/python/site-packages (from tiktoken>=0.2.0->farm-haystack) (2.0.1)\n",
      "Requirement already satisfied: idna<4,>=2.5 in /Users/ezanaaimero/Library/Python/3.8/lib/python/site-packages (from requests->farm-haystack) (2.10)\n",
      "Requirement already satisfied: charset-normalizer<4,>=2 in /Users/ezanaaimero/Library/Python/3.8/lib/python/site-packages (from requests->farm-haystack) (2.0.12)\n",
      "Requirement already satisfied: importlib-resources>=1.4.0 in /Users/ezanaaimero/Library/Python/3.8/lib/python/site-packages (from jsonschema->farm-haystack) (5.10.2)\n",
      "Requirement already satisfied: attrs>=17.4.0 in /Users/ezanaaimero/Library/Python/3.8/lib/python/site-packages (from jsonschema->farm-haystack) (22.2.0)\n",
      "Requirement already satisfied: pkgutil-resolve-name>=1.3.10 in /Users/ezanaaimero/Library/Python/3.8/lib/python/site-packages (from jsonschema->farm-haystack) (1.3.10)\n",
      "Requirement already satisfied: pyrsistent!=0.17.0,!=0.17.1,!=0.17.2,>=0.14.0 in /Users/ezanaaimero/Library/Python/3.8/lib/python/site-packages (from jsonschema->farm-haystack) (0.19.3)\n",
      "Requirement already satisfied: six in /Library/Developer/CommandLineTools/Library/Frameworks/Python3.framework/Versions/3.8/lib/python3.8/site-packages (from langdetect->farm-haystack) (1.15.0)\n",
      "Requirement already satisfied: shap<1,>=0.40 in /Users/ezanaaimero/Library/Python/3.8/lib/python/site-packages (from mlflow->farm-haystack) (0.41.0)\n",
      "Requirement already satisfied: sqlparse<1,>=0.4.0 in /Users/ezanaaimero/Library/Python/3.8/lib/python/site-packages (from mlflow->farm-haystack) (0.4.3)\n",
      "Requirement already satisfied: pyarrow<12,>=4.0.0 in /Users/ezanaaimero/Library/Python/3.8/lib/python/site-packages (from mlflow->farm-haystack) (10.0.1)\n",
      "Requirement already satisfied: Flask<3 in /Users/ezanaaimero/Library/Python/3.8/lib/python/site-packages (from mlflow->farm-haystack) (2.2.3)\n",
      "Requirement already satisfied: cloudpickle<3 in /Users/ezanaaimero/Library/Python/3.8/lib/python/site-packages (from mlflow->farm-haystack) (2.2.1)\n",
      "Requirement already satisfied: entrypoints<1 in /Users/ezanaaimero/Library/Python/3.8/lib/python/site-packages (from mlflow->farm-haystack) (0.4)\n",
      "Requirement already satisfied: gitpython<4,>=2.1.0 in /Users/ezanaaimero/Library/Python/3.8/lib/python/site-packages (from mlflow->farm-haystack) (3.1.31)\n",
      "Requirement already satisfied: click<9,>=7.0 in /Users/ezanaaimero/Library/Python/3.8/lib/python/site-packages (from mlflow->farm-haystack) (8.1.3)\n",
      "Requirement already satisfied: pytz<2023 in /Users/ezanaaimero/Library/Python/3.8/lib/python/site-packages (from mlflow->farm-haystack) (2022.1)\n",
      "Requirement already satisfied: querystring-parser<2 in /Users/ezanaaimero/Library/Python/3.8/lib/python/site-packages (from mlflow->farm-haystack) (1.2.4)\n",
      "Requirement already satisfied: alembic<2 in /Users/ezanaaimero/Library/Python/3.8/lib/python/site-packages (from mlflow->farm-haystack) (1.9.4)\n",
      "Requirement already satisfied: docker<7,>=4.0.0 in /Users/ezanaaimero/Library/Python/3.8/lib/python/site-packages (from mlflow->farm-haystack) (6.0.1)\n",
      "Requirement already satisfied: databricks-cli<1,>=0.8.7 in /Users/ezanaaimero/Library/Python/3.8/lib/python/site-packages (from mlflow->farm-haystack) (0.17.4)\n",
      "Requirement already satisfied: markdown<4,>=3.3 in /Users/ezanaaimero/Library/Python/3.8/lib/python/site-packages (from mlflow->farm-haystack) (3.4.1)\n",
      "Requirement already satisfied: importlib-metadata!=4.7.0,<7,>=3.7.0 in /Users/ezanaaimero/Library/Python/3.8/lib/python/site-packages (from mlflow->farm-haystack) (5.2.0)\n",
      "Requirement already satisfied: matplotlib<4 in /Users/ezanaaimero/Library/Python/3.8/lib/python/site-packages (from mlflow->farm-haystack) (3.6.2)\n",
      "Requirement already satisfied: gunicorn<21 in /Users/ezanaaimero/Library/Python/3.8/lib/python/site-packages (from mlflow->farm-haystack) (20.1.0)\n",
      "Requirement already satisfied: Jinja2<4,>=2.11 in /Users/ezanaaimero/Library/Python/3.8/lib/python/site-packages (from mlflow->farm-haystack) (3.1.2)\n",
      "Requirement already satisfied: sqlalchemy<3,>=1.4.0 in /Users/ezanaaimero/Library/Python/3.8/lib/python/site-packages (from mlflow->farm-haystack) (1.4.46)\n",
      "Requirement already satisfied: python-dateutil>=2.8.1 in /Users/ezanaaimero/Library/Python/3.8/lib/python/site-packages (from pandas->farm-haystack) (2.8.2)\n",
      "Requirement already satisfied: backoff>=1.10.0 in /Users/ezanaaimero/Library/Python/3.8/lib/python/site-packages (from posthog->farm-haystack) (2.2.1)\n",
      "Requirement already satisfied: monotonic>=1.5 in /Users/ezanaaimero/Library/Python/3.8/lib/python/site-packages (from posthog->farm-haystack) (1.6)\n",
      "Requirement already satisfied: lxml>=2.3.2 in /Users/ezanaaimero/Library/Python/3.8/lib/python/site-packages (from python-docx->farm-haystack) (4.9.2)\n",
      "Requirement already satisfied: inflect in /Users/ezanaaimero/Library/Python/3.8/lib/python/site-packages (from quantulum3->farm-haystack) (6.0.2)\n",
      "Requirement already satisfied: num2words in /Users/ezanaaimero/Library/Python/3.8/lib/python/site-packages (from quantulum3->farm-haystack) (0.5.12)\n",
      "Requirement already satisfied: setuptools in /Library/Developer/CommandLineTools/Library/Frameworks/Python3.framework/Versions/3.8/lib/python3.8/site-packages (from tika->farm-haystack) (41.2.0)\n",
      "Requirement already satisfied: Mako in /Users/ezanaaimero/Library/Python/3.8/lib/python/site-packages (from alembic<2->mlflow->farm-haystack) (1.2.4)\n",
      "Requirement already satisfied: pycryptodomex~=3.8 in /Users/ezanaaimero/Library/Python/3.8/lib/python/site-packages (from blobfile>=2->tiktoken>=0.2.0->farm-haystack) (3.17)\n",
      "Requirement already satisfied: oauthlib>=3.1.0 in /Users/ezanaaimero/Library/Python/3.8/lib/python/site-packages (from databricks-cli<1,>=0.8.7->mlflow->farm-haystack) (3.2.2)\n",
      "Requirement already satisfied: tabulate>=0.7.7 in /Users/ezanaaimero/Library/Python/3.8/lib/python/site-packages (from databricks-cli<1,>=0.8.7->mlflow->farm-haystack) (0.9.0)\n",
      "Requirement already satisfied: pyjwt>=1.7.0 in /Users/ezanaaimero/Library/Python/3.8/lib/python/site-packages (from databricks-cli<1,>=0.8.7->mlflow->farm-haystack) (2.6.0)\n",
      "Requirement already satisfied: websocket-client>=0.32.0 in /Users/ezanaaimero/Library/Python/3.8/lib/python/site-packages (from docker<7,>=4.0.0->mlflow->farm-haystack) (1.4.2)\n",
      "Requirement already satisfied: itsdangerous>=2.0 in /Users/ezanaaimero/Library/Python/3.8/lib/python/site-packages (from Flask<3->mlflow->farm-haystack) (2.1.2)\n",
      "Requirement already satisfied: Werkzeug>=2.2.2 in /Users/ezanaaimero/Library/Python/3.8/lib/python/site-packages (from Flask<3->mlflow->farm-haystack) (2.2.2)\n",
      "Requirement already satisfied: gitdb<5,>=4.0.1 in /Users/ezanaaimero/Library/Python/3.8/lib/python/site-packages (from gitpython<4,>=2.1.0->mlflow->farm-haystack) (4.0.10)\n",
      "Requirement already satisfied: zipp>=0.5 in /Users/ezanaaimero/Library/Python/3.8/lib/python/site-packages (from importlib-metadata!=4.7.0,<7,>=3.7.0->mlflow->farm-haystack) (3.11.0)\n",
      "Requirement already satisfied: MarkupSafe>=2.0 in /Users/ezanaaimero/Library/Python/3.8/lib/python/site-packages (from Jinja2<4,>=2.11->mlflow->farm-haystack) (2.1.1)\n",
      "Requirement already satisfied: pyparsing>=2.2.1 in /Users/ezanaaimero/Library/Python/3.8/lib/python/site-packages (from matplotlib<4->mlflow->farm-haystack) (3.0.9)\n",
      "Requirement already satisfied: fonttools>=4.22.0 in /Users/ezanaaimero/Library/Python/3.8/lib/python/site-packages (from matplotlib<4->mlflow->farm-haystack) (4.38.0)\n",
      "Requirement already satisfied: cycler>=0.10 in /Users/ezanaaimero/Library/Python/3.8/lib/python/site-packages (from matplotlib<4->mlflow->farm-haystack) (0.11.0)\n",
      "Requirement already satisfied: pillow>=6.2.0 in /Users/ezanaaimero/Library/Python/3.8/lib/python/site-packages (from matplotlib<4->mlflow->farm-haystack) (9.0.0)\n",
      "Requirement already satisfied: contourpy>=1.0.1 in /Users/ezanaaimero/Library/Python/3.8/lib/python/site-packages (from matplotlib<4->mlflow->farm-haystack) (1.0.6)\n",
      "Requirement already satisfied: kiwisolver>=1.0.1 in /Users/ezanaaimero/Library/Python/3.8/lib/python/site-packages (from matplotlib<4->mlflow->farm-haystack) (1.4.4)\n",
      "Requirement already satisfied: requests-oauthlib>=0.5.0 in /Users/ezanaaimero/Library/Python/3.8/lib/python/site-packages (from msrest>=0.6.21->azure-ai-formrecognizer>=3.2.0b2->farm-haystack) (1.3.1)\n",
      "Requirement already satisfied: isodate>=0.6.0 in /Users/ezanaaimero/Library/Python/3.8/lib/python/site-packages (from msrest>=0.6.21->azure-ai-formrecognizer>=3.2.0b2->farm-haystack) (0.6.1)\n",
      "Requirement already satisfied: numba in /Users/ezanaaimero/Library/Python/3.8/lib/python/site-packages (from shap<1,>=0.40->mlflow->farm-haystack) (0.56.4)\n",
      "Requirement already satisfied: slicer==0.0.7 in /Users/ezanaaimero/Library/Python/3.8/lib/python/site-packages (from shap<1,>=0.40->mlflow->farm-haystack) (0.0.7)\n",
      "Requirement already satisfied: greenlet!=0.4.17 in /Users/ezanaaimero/Library/Python/3.8/lib/python/site-packages (from sqlalchemy<3,>=1.4.0->mlflow->farm-haystack) (2.0.2)\n",
      "Requirement already satisfied: docopt>=0.6.2 in /Users/ezanaaimero/Library/Python/3.8/lib/python/site-packages (from num2words->quantulum3->farm-haystack) (0.6.2)\n",
      "Requirement already satisfied: smmap<6,>=3.0.1 in /Users/ezanaaimero/Library/Python/3.8/lib/python/site-packages (from gitdb<5,>=4.0.1->gitpython<4,>=2.1.0->mlflow->farm-haystack) (5.0.0)\n",
      "Requirement already satisfied: llvmlite<0.40,>=0.39.0dev0 in /Users/ezanaaimero/Library/Python/3.8/lib/python/site-packages (from numba->shap<1,>=0.40->mlflow->farm-haystack) (0.39.1)\n",
      "Note: you may need to restart the kernel to use updated packages.\n"
     ]
    }
   ],
   "source": [
    "%pip install --upgrade pip\n",
    "%pip install farm-haystack"
   ]
  },
  {
   "cell_type": "code",
   "execution_count": 1,
   "id": "72908c3b-b40f-4679-a554-b24acdc00207",
   "metadata": {
    "tags": []
   },
   "outputs": [],
   "source": [
    "import logging\n",
    "\n",
    "logging.basicConfig(format=\"%(levelname)s - %(name)s -  %(message)s\", level=logging.WARNING)\n",
    "logging.getLogger(\"haystack\").setLevel(logging.INFO)"
   ]
  },
  {
   "cell_type": "code",
   "execution_count": 2,
   "id": "4a592768-b8a4-4dd8-a398-d8ea15cea960",
   "metadata": {
    "tags": []
   },
   "outputs": [],
   "source": [
    "import os\n",
    "from flask import Flask, jsonify, request\n",
    "from flask_restful import Api, Resource\n",
    "import joblib"
   ]
  },
  {
   "cell_type": "code",
   "execution_count": 3,
   "id": "64335aba-74b9-4f1e-ba36-436de085252b",
   "metadata": {
    "tags": []
   },
   "outputs": [
    {
     "name": "stderr",
     "output_type": "stream",
     "text": [
      "/Users/ezanaaimero/Library/Python/3.8/lib/python/site-packages/tqdm/auto.py:22: TqdmWarning: IProgress not found. Please update jupyter and ipywidgets. See https://ipywidgets.readthedocs.io/en/stable/user_install.html\n",
      "  from .autonotebook import tqdm as notebook_tqdm\n",
      "2023-05-10 11:59:34.662333: I tensorflow/core/platform/cpu_feature_guard.cc:193] This TensorFlow binary is optimized with oneAPI Deep Neural Network Library (oneDNN) to use the following CPU instructions in performance-critical operations:  AVX2 FMA\n",
      "To enable them in other operations, rebuild TensorFlow with the appropriate compiler flags.\n",
      "INFO - haystack.modeling.utils -  Using devices: CPU - Number of GPUs: 0\n"
     ]
    }
   ],
   "source": [
    "from haystack.document_stores import InMemoryDocumentStore\n",
    "\n",
    "document_store = InMemoryDocumentStore(use_bm25=True)"
   ]
  },
  {
   "cell_type": "code",
   "execution_count": null,
   "id": "d200d3de-96bd-4564-9a4e-facb82640acb",
   "metadata": {
    "tags": []
   },
   "outputs": [],
   "source": []
  },
  {
   "cell_type": "code",
   "execution_count": 4,
   "id": "b0a74875-e113-4aea-8836-9afad845078e",
   "metadata": {
    "tags": []
   },
   "outputs": [],
   "source": [
    "doc_dir = \"../data/Bible_trained5\""
   ]
  },
  {
   "cell_type": "code",
   "execution_count": 1,
   "id": "c1c2284b-ef49-4bef-b26e-076be27a29be",
   "metadata": {
    "tags": []
   },
   "outputs": [
    {
     "name": "stderr",
     "output_type": "stream",
     "text": [
      "/Users/ezanaaimero/Library/Python/3.8/lib/python/site-packages/tqdm/auto.py:22: TqdmWarning: IProgress not found. Please update jupyter and ipywidgets. See https://ipywidgets.readthedocs.io/en/stable/user_install.html\n",
      "  from .autonotebook import tqdm as notebook_tqdm\n",
      "2023-05-11 10:01:32.601426: I tensorflow/core/platform/cpu_feature_guard.cc:193] This TensorFlow binary is optimized with oneAPI Deep Neural Network Library (oneDNN) to use the following CPU instructions in performance-critical operations:  AVX2 FMA\n",
      "To enable them in other operations, rebuild TensorFlow with the appropriate compiler flags.\n"
     ]
    },
    {
     "ename": "NameError",
     "evalue": "name 'doc_dir' is not defined",
     "output_type": "error",
     "traceback": [
      "\u001b[0;31m---------------------------------------------------------------------------\u001b[0m",
      "\u001b[0;31mNameError\u001b[0m                                 Traceback (most recent call last)",
      "Cell \u001b[0;32mIn[1], line 4\u001b[0m\n\u001b[1;32m      1\u001b[0m \u001b[38;5;28;01mimport\u001b[39;00m \u001b[38;5;21;01mos\u001b[39;00m\n\u001b[1;32m      2\u001b[0m \u001b[38;5;28;01mfrom\u001b[39;00m \u001b[38;5;21;01mhaystack\u001b[39;00m\u001b[38;5;21;01m.\u001b[39;00m\u001b[38;5;21;01mpipelines\u001b[39;00m\u001b[38;5;21;01m.\u001b[39;00m\u001b[38;5;21;01mstandard_pipelines\u001b[39;00m \u001b[38;5;28;01mimport\u001b[39;00m TextIndexingPipeline\n\u001b[0;32m----> 4\u001b[0m files_to_index \u001b[38;5;241m=\u001b[39m [doc_dir \u001b[38;5;241m+\u001b[39m \u001b[38;5;124m\"\u001b[39m\u001b[38;5;124m/\u001b[39m\u001b[38;5;124m\"\u001b[39m \u001b[38;5;241m+\u001b[39m f \u001b[38;5;28;01mfor\u001b[39;00m f \u001b[38;5;129;01min\u001b[39;00m os\u001b[38;5;241m.\u001b[39mlistdir(\u001b[43mdoc_dir\u001b[49m)]\n\u001b[1;32m      5\u001b[0m indexing_pipeline \u001b[38;5;241m=\u001b[39m TextIndexingPipeline(document_store)\n\u001b[1;32m      6\u001b[0m indexing_pipeline\u001b[38;5;241m.\u001b[39mrun_batch(file_paths\u001b[38;5;241m=\u001b[39mfiles_to_index)\n",
      "\u001b[0;31mNameError\u001b[0m: name 'doc_dir' is not defined"
     ]
    }
   ],
   "source": [
    "import os\n",
    "from haystack.pipelines.standard_pipelines import TextIndexingPipeline\n",
    "\n",
    "files_to_index = [doc_dir + \"/\" + f for f in os.listdir(doc_dir)]\n",
    "indexing_pipeline = TextIndexingPipeline(document_store)\n",
    "indexing_pipeline.run_batch(file_paths=files_to_index)\n",
    "\n"
   ]
  },
  {
   "cell_type": "code",
   "execution_count": 6,
   "id": "bebc2057-0fa1-4f72-8e83-70d09d157dc0",
   "metadata": {
    "tags": []
   },
   "outputs": [],
   "source": [
    "from haystack.nodes import BM25Retriever\n",
    "from haystack.nodes import DensePassageRetriever\n",
    "retriever = BM25Retriever(document_store=document_store)"
   ]
  },
  {
   "cell_type": "code",
   "execution_count": 7,
   "id": "fbfa2994-5c86-4020-aa87-5ef5986eed99",
   "metadata": {
    "tags": []
   },
   "outputs": [
    {
     "name": "stderr",
     "output_type": "stream",
     "text": [
      "INFO - haystack.modeling.utils -  Using devices: CPU - Number of GPUs: 0\n",
      "INFO - haystack.modeling.utils -  Using devices: CPU - Number of GPUs: 0\n",
      "INFO - haystack.modeling.model.language_model -   * LOADING MODEL: 'AlexKay/xlm-roberta-large-qa-multilingual-finedtuned-ru' (XLMRoberta)\n",
      "INFO - haystack.modeling.model.language_model -  Auto-detected model language: multilingual\n",
      "INFO - haystack.modeling.model.language_model -  Loaded 'AlexKay/xlm-roberta-large-qa-multilingual-finedtuned-ru' (XLMRoberta model) from model hub.\n",
      "INFO - haystack.modeling.utils -  Using devices: CPU - Number of GPUs: 0\n"
     ]
    }
   ],
   "source": [
    "from haystack.nodes import FARMReader\n",
    "#*** worked nice in English deepset/roberta-base-squad2\n",
    "#AlexKay/xlm-roberta-large-qa-multilingual-finedtuned-ru \n",
    "#distilbert-base-cased-distilled-squad\n",
    "#xlm-roberta-base ----amharic\n",
    "reader = FARMReader(model_name_or_path=\"AlexKay/xlm-roberta-large-qa-multilingual-finedtuned-ru\", use_gpu=True)\n",
    "\n"
   ]
  },
  {
   "cell_type": "code",
   "execution_count": 8,
   "id": "fe670817-a7cb-492b-9302-d23227a5d724",
   "metadata": {
    "tags": []
   },
   "outputs": [],
   "source": [
    "from haystack.pipelines import ExtractiveQAPipeline\n",
    "\n",
    "pipe = ExtractiveQAPipeline(reader, retriever)"
   ]
  },
  {
   "cell_type": "code",
   "execution_count": null,
   "id": "8556a75e-46fc-4815-99e1-3c42e3ded60f",
   "metadata": {
    "tags": []
   },
   "outputs": [],
   "source": [
    "\n"
   ]
  },
  {
   "cell_type": "code",
   "execution_count": null,
   "id": "5e35d85a-7c49-42cd-86f3-d3e88735aacc",
   "metadata": {
    "tags": []
   },
   "outputs": [],
   "source": []
  },
  {
   "cell_type": "code",
   "execution_count": 9,
   "id": "453a16ef-515c-4002-a38d-fabbc512f813",
   "metadata": {
    "tags": []
   },
   "outputs": [],
   "source": [
    "from haystack.utils import print_answers\n",
    "\n",
    "#print_answers(\n",
    "#    prediction,\n",
    "#    details=\"medium\" ## Choose from `minimum`, `medium`, and `all`\n",
    "#)\n",
    "\n"
   ]
  },
  {
   "cell_type": "code",
   "execution_count": null,
   "id": "6a15fb25-0c12-4040-b636-2689775f7a48",
   "metadata": {
    "tags": []
   },
   "outputs": [],
   "source": []
  },
  {
   "cell_type": "code",
   "execution_count": 10,
   "id": "3a95b547-84f0-4074-bc1d-beee111420b1",
   "metadata": {},
   "outputs": [],
   "source": [
    "def createVerse2(verse_after_decimal_point):\n",
    "    if verse_after_decimal_point == 1:\n",
    "        return str (verse_after_decimal_point) + \"-\" + str (verse_after_decimal_point + 1)\n",
    "    else:\n",
    "        return str (verse_after_decimal_point - 1) + \"-\" + str (verse_after_decimal_point + 1)\n",
    "    \n",
    "\n",
    "\n",
    "\n",
    "def findTriguame(verse_start):\n",
    "    varse = \"empty\"\n",
    "    \n",
    "    with open('../data/Bible_verse_with_triguame_full.txt', 'r') as file:\n",
    "        data = file.read()\n",
    "    triguame_start = 0\n",
    "    while data[verse_start:verse_start+12] != 'triguame_end':\n",
    "            #print(\"TTTTTTTTT \",data[verse_start:verse_start+14])\n",
    "            if data[verse_start:verse_start+14] == \"triguame_start\":\n",
    "                triguame_start = verse_start\n",
    "            \n",
    "            verse_start = verse_start + 1\n",
    "    \n",
    "    return data[triguame_start+15:verse_start]\n",
    "    \n",
    "    \n",
    "\n",
    "def findVerse2(searchInput):\n",
    "    print(\"<<<<<<<<<<<<<<<<<<<\",searchInput)\n",
    "    varse = \"empty\"\n",
    "    triguame_result = \"\"\n",
    "    with open('../data/Bible_verse_with_triguame_full.txt', 'r') as file:\n",
    "        data = file.read()\n",
    "    \n",
    "    \n",
    "    searchResult = data.find(searchInput)\n",
    "    tabIndex = 0\n",
    "    endOfVerse = 0\n",
    "    decimal_point = 0\n",
    "    if searchResult != -1:\n",
    "        while data[searchResult:searchResult+11] != 'verse_start':\n",
    "            if data[searchResult:searchResult+12] == 'verse_number':\n",
    "                tabIndex = searchResult\n",
    "                endOfVerse = tabIndex\n",
    "            if data[searchResult:searchResult+11] == 'verse_point':\n",
    "                decimal_point = searchResult\n",
    "            searchResult = searchResult - 1\n",
    "        #verse string and number    \n",
    "        varse_number = data[searchResult+12:decimal_point]\n",
    "\n",
    "        verse_after_decimal_point = int(data[decimal_point+11:tabIndex-1])\n",
    "        #first verse\n",
    "        searchResult = searchResult - 1\n",
    "        endOfFirstVerse = searchResult\n",
    "        \n",
    "        first_verse_end = 0\n",
    "        while data[searchResult:searchResult+12] != 'verse_number':\n",
    "            #print(\"TTTTTTTTT \",data[searchResult:searchResult+9])\n",
    "            if data[searchResult:searchResult+9] == \"verse_end\":\n",
    "                first_verse_end = searchResult\n",
    "            searchResult = searchResult - 1\n",
    "        varse_sentence_1 = data[searchResult+15: first_verse_end-1]    \n",
    "        \n",
    "        #second Verse  \n",
    "        while data[endOfVerse:endOfVerse+9] != 'verse_end':\n",
    "            endOfVerse = endOfVerse + 1    \n",
    "            \n",
    "        varse_sentence_2 = data[tabIndex+15:endOfVerse-11]\n",
    "        verse_start = tabIndex\n",
    "        endOfVerse = endOfVerse+1\n",
    "        second_tab = 0\n",
    "        #third verse\n",
    "        while data[endOfVerse:endOfVerse+9] != 'verse_end':\n",
    "            if data[endOfVerse:endOfVerse+12] == 'verse_number':\n",
    "                second_tab = endOfVerse\n",
    "            endOfVerse = endOfVerse + 1\n",
    "            \n",
    "        varse_sentence_3 = data[second_tab+14:endOfVerse-1]\n",
    "        varse = varse_number + \"÷\" + createVerse2(verse_after_decimal_point) + \": \"+ varse_sentence_1+\" \\n\"+varse_sentence_2 + \"\\n\" + varse_sentence_3\n",
    "        triguame_result = findTriguame(verse_start)\n",
    "        triguame_result = triguame_result.replace(\"\\n\",\"\")\n",
    "    return varse,triguame_result\n"
   ]
  },
  {
   "cell_type": "code",
   "execution_count": null,
   "id": "c1ed640d-8df9-4028-8bfd-e0db53245512",
   "metadata": {
    "tags": []
   },
   "outputs": [],
   "source": []
  },
  {
   "cell_type": "code",
   "execution_count": 11,
   "id": "483ceddb-d586-4528-9432-2ea36a9e6de0",
   "metadata": {},
   "outputs": [],
   "source": [
    "app = Flask(__name__)\n",
    "api = Api(app)\n",
    "class MakePrediction(Resource):\n",
    "    try:\n",
    "        \n",
    "        @staticmethod\n",
    "        def post():\n",
    "            posted_data = request.get_json()\n",
    "            user_question = posted_data['question']\n",
    "            retriver_top_k = 10\n",
    "            reader_top_k = 5\n",
    "            prediction = pipe.run(\n",
    "            query=user_question,\n",
    "            params={\n",
    "                \"Retriever\": {\"top_k\": retriver_top_k},\n",
    "                \"Reader\": {\"top_k\": reader_top_k}\n",
    "                })\n",
    "            \n",
    "            #=============================\n",
    "            print_answers(\n",
    "                prediction,\n",
    "                details=\"medium\" ## Choose from `minimum`, `medium`, and `all`\n",
    "            )\n",
    "\n",
    "            #=============================\n",
    "\n",
    "\n",
    "            text = \"\"\n",
    "            answerList = []\n",
    "            verseList = []\n",
    "            triguameList = []\n",
    "            for x in range(reader_top_k):\n",
    "                new_context = prediction['answers'][x].context \n",
    "                context_list = new_context.split('\\n')\n",
    "                context_list.sort(key=len, reverse=True)\n",
    "                print(f\"Answer: '{prediction['answers'][x].answer}', score: {round(prediction['answers'][x].score, 4)}\")\n",
    "\n",
    "                #add to answersList that will returned by API\n",
    "                answerList.append(prediction['answers'][x].answer)\n",
    "                outputVarse = \"\"\n",
    "                outputTriguame = \"\"\n",
    "                for sentence in context_list:\n",
    "                    sentence = sentence[3:]\n",
    "                    #print(sentence,\"<====\")\n",
    "                    if len(sentence) < 3: continue\n",
    "                    #outputVarse = findVerse2(sentence)\n",
    "                    #print(sentence,\"<========\")\n",
    "                    sentence = sentence.replace(\"\\n\",\"\")\n",
    "                    #sentence = sentence.replace(\"»\",\"\")\n",
    "                    #sentence = sentence.replace(\"«\",\"\")\n",
    "                    outputVarse,outputTriguame = findVerse2(sentence)\n",
    "\n",
    "                    if outputVarse != \"\":\n",
    "                        break\n",
    "                        \n",
    "                outputVarse = outputVarse.replace('\\t', '')\n",
    "                print(\"\\t\",outputVarse)\n",
    "                text = text + new_context\n",
    "                print()\n",
    "                print(\"\\t«ከትርጓሜ መጻሕፍት»\")\n",
    "                print()\n",
    "                print(outputTriguame[:400])\n",
    "\n",
    "                #add triguame to triguame list that will be returned to api\n",
    "                verseList.append(outputVarse)\n",
    "                triguameList.append(outputTriguame[:400])\n",
    "                print()\n",
    "                print(\"===============================================================\")\n",
    "\n",
    "            return jsonify({\n",
    "                'answers': answerList,\n",
    "                'verses': verseList,\n",
    "                'triguames':triguameList\n",
    "            })\n",
    "    except:\n",
    "        print(\"api error main\")\n",
    "try:\n",
    "    api.add_resource(MakePrediction, '/predict')\n",
    "except:\n",
    "    print(\"api erreor\")"
   ]
  },
  {
   "cell_type": "code",
   "execution_count": null,
   "id": "bd1a968b-4088-4df9-98e3-57ce7c6aecca",
   "metadata": {},
   "outputs": [
    {
     "name": "stdout",
     "output_type": "stream",
     "text": [
      " * Serving Flask app '__main__'\n",
      " * Debug mode: off\n"
     ]
    },
    {
     "name": "stderr",
     "output_type": "stream",
     "text": [
      "INFO - werkzeug -  \u001b[31m\u001b[1mWARNING: This is a development server. Do not use it in a production deployment. Use a production WSGI server instead.\u001b[0m\n",
      " * Running on http://127.0.0.1:5000\n",
      "INFO - werkzeug -  \u001b[33mPress CTRL+C to quit\u001b[0m\n"
     ]
    }
   ],
   "source": [
    "if __name__ == '__main__':\n",
    "    app.run()"
   ]
  },
  {
   "cell_type": "code",
   "execution_count": null,
   "id": "24af7b42-4322-4ae2-9282-467aac926b5e",
   "metadata": {},
   "outputs": [],
   "source": []
  },
  {
   "cell_type": "code",
   "execution_count": null,
   "id": "10358578-d0cd-4f0f-bf59-339713972965",
   "metadata": {},
   "outputs": [],
   "source": []
  },
  {
   "cell_type": "code",
   "execution_count": null,
   "id": "8d29381e-7c80-4052-bb7e-2736b60149b8",
   "metadata": {},
   "outputs": [],
   "source": []
  }
 ],
 "metadata": {
  "kernelspec": {
   "display_name": "Python 3 (ipykernel)",
   "language": "python",
   "name": "python3"
  },
  "language_info": {
   "codemirror_mode": {
    "name": "ipython",
    "version": 3
   },
   "file_extension": ".py",
   "mimetype": "text/x-python",
   "name": "python",
   "nbconvert_exporter": "python",
   "pygments_lexer": "ipython3",
   "version": "3.8.2"
  }
 },
 "nbformat": 4,
 "nbformat_minor": 5
}
