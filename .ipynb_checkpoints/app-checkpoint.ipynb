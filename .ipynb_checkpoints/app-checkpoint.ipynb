{
 "cells": [
  {
   "cell_type": "code",
   "execution_count": 1,
   "id": "1b4d8ab0-af0b-402c-bbfe-1f426afb2824",
   "metadata": {
    "tags": []
   },
   "outputs": [],
   "source": [
    "import os\n",
    "from flask import Flask, jsonify, request\n",
    "from flask_restful import Api, Resource\n",
    "import joblib\n",
    "app = Flask(__name__)\n",
    "api = Api(app)\n",
    "\n",
    "\n",
    "\n"
   ]
  },
  {
   "cell_type": "code",
   "execution_count": 2,
   "id": "9a82c94a-046a-4400-ac2f-c1669557f908",
   "metadata": {
    "tags": []
   },
   "outputs": [],
   "source": [
    "nameMessage = \"hey there \"\n",
    "ma = [\"name\",\"age\"]"
   ]
  },
  {
   "cell_type": "code",
   "execution_count": 3,
   "id": "9fd53718-d20f-46ad-aab6-3f94ab69d1a4",
   "metadata": {
    "tags": []
   },
   "outputs": [],
   "source": [
    "class MakePrediction(Resource):\n",
    "    @staticmethod\n",
    "    def post():\n",
    "        posted_data = request.get_json()\n",
    "        name = posted_data['name']\n",
    "        return jsonify({\n",
    "            'greeting': ma\n",
    "        })\n",
    "    \n",
    "api.add_resource(MakePrediction, '/predict')"
   ]
  },
  {
   "cell_type": "code",
   "execution_count": 4,
   "id": "853fee13-0745-43dc-bc57-c95ce7cb288a",
   "metadata": {
    "tags": []
   },
   "outputs": [
    {
     "name": "stdout",
     "output_type": "stream",
     "text": [
      " * Serving Flask app '__main__'\n",
      " * Debug mode: off\n"
     ]
    },
    {
     "name": "stderr",
     "output_type": "stream",
     "text": [
      "\u001b[31m\u001b[1mWARNING: This is a development server. Do not use it in a production deployment. Use a production WSGI server instead.\u001b[0m\n",
      " * Running on http://127.0.0.1:5000\n",
      "\u001b[33mPress CTRL+C to quit\u001b[0m\n",
      "127.0.0.1 - - [25/Apr/2023 12:57:30] \"POST /predict HTTP/1.1\" 200 -\n",
      "127.0.0.1 - - [25/Apr/2023 12:58:00] \"POST /predict HTTP/1.1\" 200 -\n",
      "127.0.0.1 - - [25/Apr/2023 12:58:16] \"POST /predict HTTP/1.1\" 200 -\n",
      "127.0.0.1 - - [25/Apr/2023 12:58:28] \"POST /predict HTTP/1.1\" 200 -\n",
      "127.0.0.1 - - [25/Apr/2023 12:58:54] \"POST /predict HTTP/1.1\" 200 -\n",
      "127.0.0.1 - - [25/Apr/2023 12:59:01] \"POST /predict HTTP/1.1\" 200 -\n",
      "127.0.0.1 - - [25/Apr/2023 12:59:02] \"POST /predict HTTP/1.1\" 200 -\n",
      "127.0.0.1 - - [25/Apr/2023 12:59:02] \"POST /predict HTTP/1.1\" 200 -\n",
      "127.0.0.1 - - [25/Apr/2023 12:59:02] \"POST /predict HTTP/1.1\" 200 -\n"
     ]
    }
   ],
   "source": [
    "if __name__ == '__main__':\n",
    "    app.run()"
   ]
  },
  {
   "cell_type": "code",
   "execution_count": null,
   "id": "870765a9-c741-42b8-bfe6-86165ea2c2c2",
   "metadata": {},
   "outputs": [],
   "source": []
  },
  {
   "cell_type": "code",
   "execution_count": null,
   "id": "681a05ab-3fef-42b2-88b9-bb80f3cfeff0",
   "metadata": {},
   "outputs": [],
   "source": []
  }
 ],
 "metadata": {
  "kernelspec": {
   "display_name": "Python 3 (ipykernel)",
   "language": "python",
   "name": "python3"
  },
  "language_info": {
   "codemirror_mode": {
    "name": "ipython",
    "version": 3
   },
   "file_extension": ".py",
   "mimetype": "text/x-python",
   "name": "python",
   "nbconvert_exporter": "python",
   "pygments_lexer": "ipython3",
   "version": "3.8.2"
  }
 },
 "nbformat": 4,
 "nbformat_minor": 5
}
